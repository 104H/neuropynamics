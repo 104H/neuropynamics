{
 "cells": [
  {
   "cell_type": "code",
   "execution_count": 2,
   "metadata": {},
   "outputs": [
    {
     "name": "stdout",
     "output_type": "stream",
     "text": [
      "Equation==1.2.1\r\n"
     ]
    }
   ],
   "source": [
    "! pip3 freeze | grep Eq"
   ]
  },
  {
   "cell_type": "code",
   "execution_count": 5,
   "metadata": {},
   "outputs": [
    {
     "name": "stdout",
     "output_type": "stream",
     "text": [
      "Collecting sympy\n",
      "  Downloading sympy-1.6.1-py3-none-any.whl (5.8 MB)\n",
      "\u001b[K     |████████████████████████████████| 5.8 MB 264 kB/s eta 0:00:01\n",
      "\u001b[?25hCollecting mpmath>=0.19\n",
      "  Downloading mpmath-1.1.0.tar.gz (512 kB)\n",
      "\u001b[K     |████████████████████████████████| 512 kB 323 kB/s eta 0:00:01\n",
      "\u001b[?25hBuilding wheels for collected packages: mpmath\n",
      "  Building wheel for mpmath (setup.py) ... \u001b[?25ldone\n",
      "\u001b[?25h  Created wheel for mpmath: filename=mpmath-1.1.0-py3-none-any.whl size=532239 sha256=a00d88b3022332342c0e8c7f11e5a8d45584c2fd2604b965a6b4ee389939e45b\n",
      "  Stored in directory: /home/hunaid/.cache/pip/wheels/29/2c/1c/d2e4580cde2743b0aef389e936ac21a2db92921ddbca53faa1\n",
      "Successfully built mpmath\n",
      "Installing collected packages: mpmath, sympy\n",
      "Successfully installed mpmath-1.1.0 sympy-1.6.1\n"
     ]
    }
   ],
   "source": [
    "! pip3 install sympy"
   ]
  },
  {
   "cell_type": "code",
   "execution_count": 306,
   "metadata": {},
   "outputs": [],
   "source": [
    "from sympy import symbols, solve, lambdify, sympify\n",
    "import numpy as np\n",
    "from matplotlib import pyplot as plt\n",
    "from matplotlib.pyplot import quiver"
   ]
  },
  {
   "cell_type": "code",
   "execution_count": 307,
   "metadata": {},
   "outputs": [],
   "source": [
    "? sympify"
   ]
  },
  {
   "cell_type": "code",
   "execution_count": 10,
   "metadata": {},
   "outputs": [],
   "source": [
    "x, y = symbols('x y')"
   ]
  },
  {
   "cell_type": "code",
   "execution_count": null,
   "metadata": {},
   "outputs": [],
   "source": [
    "? "
   ]
  },
  {
   "cell_type": "code",
   "execution_count": 21,
   "metadata": {},
   "outputs": [
    {
     "data": {
      "text/latex": [
       "$\\displaystyle 3 x^{2} + 2 x y + 2 x - 3 y^{2} - y$"
      ],
      "text/plain": [
       "3*x**2 + 2*x*y + 2*x - 3*y**2 - y"
      ]
     },
     "execution_count": 21,
     "metadata": {},
     "output_type": "execute_result"
    }
   ],
   "source": [
    "expr1 = 2*x - y + 3*(x**2 - y**2) + 2*x*y\n",
    "expr1"
   ]
  },
  {
   "cell_type": "code",
   "execution_count": 18,
   "metadata": {},
   "outputs": [
    {
     "data": {
      "text/latex": [
       "$\\displaystyle - 3 x^{2} + 3 x y + x + 3 y^{2} - 3 y$"
      ],
      "text/plain": [
       "-3*x**2 + 3*x*y + x + 3*y**2 - 3*y"
      ]
     },
     "execution_count": 18,
     "metadata": {},
     "output_type": "execute_result"
    }
   ],
   "source": [
    "expr2 = x - 3*y - 3*(x**2-y**2) + 3*x*y\n",
    "expr2"
   ]
  },
  {
   "cell_type": "code",
   "execution_count": 23,
   "metadata": {},
   "outputs": [
    {
     "data": {
      "text/plain": [
       "[(0, 0),\n",
       " (-(-1/3 - 16/(15*(-1/2 - sqrt(3)*I/2)*(8/5 + 8*sqrt(295)*I/25)**(1/3)) - (-1/2 - sqrt(3)*I/2)*(8/5 + 8*sqrt(295)*I/25)**(1/3)/3)*(-83 - 32/((-1/2 - sqrt(3)*I/2)*(8/5 + 8*sqrt(295)*I/25)**(1/3)) + 75*(-1/3 - 16/(15*(-1/2 - sqrt(3)*I/2)*(8/5 + 8*sqrt(295)*I/25)**(1/3)) - (-1/2 - sqrt(3)*I/2)*(8/5 + 8*sqrt(295)*I/25)**(1/3)/3)**2 - 10*(-1/2 - sqrt(3)*I/2)*(8/5 + 8*sqrt(295)*I/25)**(1/3))/36,\n",
       "  -1/3 - 16/(15*(-1/2 - sqrt(3)*I/2)*(8/5 + 8*sqrt(295)*I/25)**(1/3)) - (-1/2 - sqrt(3)*I/2)*(8/5 + 8*sqrt(295)*I/25)**(1/3)/3),\n",
       " (-(-1/3 - (-1/2 + sqrt(3)*I/2)*(8/5 + 8*sqrt(295)*I/25)**(1/3)/3 - 16/(15*(-1/2 + sqrt(3)*I/2)*(8/5 + 8*sqrt(295)*I/25)**(1/3)))*(-83 - 10*(-1/2 + sqrt(3)*I/2)*(8/5 + 8*sqrt(295)*I/25)**(1/3) + 75*(-1/3 - (-1/2 + sqrt(3)*I/2)*(8/5 + 8*sqrt(295)*I/25)**(1/3)/3 - 16/(15*(-1/2 + sqrt(3)*I/2)*(8/5 + 8*sqrt(295)*I/25)**(1/3)))**2 - 32/((-1/2 + sqrt(3)*I/2)*(8/5 + 8*sqrt(295)*I/25)**(1/3)))/36,\n",
       "  -1/3 - (-1/2 + sqrt(3)*I/2)*(8/5 + 8*sqrt(295)*I/25)**(1/3)/3 - 16/(15*(-1/2 + sqrt(3)*I/2)*(8/5 + 8*sqrt(295)*I/25)**(1/3))),\n",
       " (-(-1/3 - (8/5 + 8*sqrt(295)*I/25)**(1/3)/3 - 16/(15*(8/5 + 8*sqrt(295)*I/25)**(1/3)))*(-83 - 10*(8/5 + 8*sqrt(295)*I/25)**(1/3) + 75*(-1/3 - (8/5 + 8*sqrt(295)*I/25)**(1/3)/3 - 16/(15*(8/5 + 8*sqrt(295)*I/25)**(1/3)))**2 - 32/(8/5 + 8*sqrt(295)*I/25)**(1/3))/36,\n",
       "  -1/3 - (8/5 + 8*sqrt(295)*I/25)**(1/3)/3 - 16/(15*(8/5 + 8*sqrt(295)*I/25)**(1/3)))]"
      ]
     },
     "execution_count": 23,
     "metadata": {},
     "output_type": "execute_result"
    }
   ],
   "source": [
    "solve((expr1, expr2), (x, y))"
   ]
  },
  {
   "cell_type": "code",
   "execution_count": 28,
   "metadata": {},
   "outputs": [],
   "source": [
    "f1 = lambdify((x, y), expr1)\n",
    "f2 = lambdify((x, y), expr2)"
   ]
  },
  {
   "cell_type": "code",
   "execution_count": 33,
   "metadata": {},
   "outputs": [],
   "source": [
    "? np.linspace"
   ]
  },
  {
   "cell_type": "code",
   "execution_count": 293,
   "metadata": {},
   "outputs": [],
   "source": [
    "? f1"
   ]
  },
  {
   "cell_type": "code",
   "execution_count": 264,
   "metadata": {},
   "outputs": [],
   "source": [
    "from ipywidgets import widgets, display"
   ]
  },
  {
   "cell_type": "code",
   "execution_count": 294,
   "metadata": {},
   "outputs": [
    {
     "name": "stderr",
     "output_type": "stream",
     "text": [
      "Widget Javascript not detected.  It may not be installed or enabled properly.\n"
     ]
    },
    {
     "data": {
      "application/vnd.jupyter.widget-view+json": {
       "model_id": "02b463d8527447e78a2e206bddc3378b"
      }
     },
     "metadata": {},
     "output_type": "display_data"
    }
   ],
   "source": [
    "num_arrows_slider = widgets.IntSlider()\n",
    "num_arrows_slider"
   ]
  },
  {
   "cell_type": "code",
   "execution_count": 295,
   "metadata": {},
   "outputs": [],
   "source": [
    "num_arrows = num_arrows_slider.value"
   ]
  },
  {
   "cell_type": "code",
   "execution_count": 280,
   "metadata": {},
   "outputs": [
    {
     "name": "stderr",
     "output_type": "stream",
     "text": [
      "Widget Javascript not detected.  It may not be installed or enabled properly.\n"
     ]
    },
    {
     "data": {
      "application/vnd.jupyter.widget-view+json": {
       "model_id": "30d90933b8d444418c90d7bf74249c80"
      }
     },
     "metadata": {},
     "output_type": "display_data"
    }
   ],
   "source": [
    "y_range_slider = widgets.IntRangeSlider()\n",
    "y_range_slider"
   ]
  },
  {
   "cell_type": "code",
   "execution_count": 296,
   "metadata": {},
   "outputs": [],
   "source": [
    "yrange = np.linspace(-4, 2, num_arrows)"
   ]
  },
  {
   "cell_type": "code",
   "execution_count": 297,
   "metadata": {},
   "outputs": [],
   "source": [
    "xrange = np.linspace(-2, 4, num_arrows)"
   ]
  },
  {
   "cell_type": "code",
   "execution_count": 298,
   "metadata": {},
   "outputs": [],
   "source": [
    "f1_val = [[f1(i, j) for i in xrange] for j in yrange];"
   ]
  },
  {
   "cell_type": "code",
   "execution_count": 299,
   "metadata": {},
   "outputs": [],
   "source": [
    "f2_val = [[f2(i, j) for i in xrange] for j in yrange];"
   ]
  },
  {
   "cell_type": "code",
   "execution_count": 224,
   "metadata": {},
   "outputs": [],
   "source": [
    "# ? quiver"
   ]
  },
  {
   "cell_type": "code",
   "execution_count": 225,
   "metadata": {},
   "outputs": [],
   "source": [
    "# grid = np.transpose( [np.tile(xrange, len(yrange)), np.repeat(yrange, len(xrange))] )\n",
    "# arrows = np.transpose( [np.tile(f1_val, len(f2_val)), np.repeat(f2_val, len(f1_val))] )"
   ]
  },
  {
   "cell_type": "code",
   "execution_count": 226,
   "metadata": {},
   "outputs": [],
   "source": [
    "# [[i, j] for i, j in zip(f1_val, f2_val)];"
   ]
  },
  {
   "cell_type": "code",
   "execution_count": 227,
   "metadata": {},
   "outputs": [],
   "source": [
    "# U, V = np.meshgrid(f1_val, f2_val)"
   ]
  },
  {
   "cell_type": "code",
   "execution_count": 228,
   "metadata": {},
   "outputs": [],
   "source": [
    "# U, V = np.meshgrid(np.ones(num_arrows), np.zeros(num_arrows))"
   ]
  },
  {
   "cell_type": "code",
   "execution_count": 304,
   "metadata": {
    "scrolled": false
   },
   "outputs": [
    {
     "name": "stderr",
     "output_type": "stream",
     "text": [
      "Widget Javascript not detected.  It may not be installed or enabled properly.\n"
     ]
    },
    {
     "data": {
      "application/vnd.jupyter.widget-view+json": {
       "model_id": "0986aa908adf4a9892b72a646f489f43"
      }
     },
     "metadata": {},
     "output_type": "display_data"
    },
    {
     "data": {
      "image/png": "[encoded data removed]",
      "text/plain": [
       "<Figure size 720x720 with 1 Axes>"
      ]
     },
     "metadata": {
      "needs_background": "light"
     },
     "output_type": "display_data"
    }
   ],
   "source": [
    "num_arrows_slider = widgets.IntSlider()\n",
    "display(num_arrows_slider)\n",
    "\n",
    "fig, ax = plt.subplots(figsize=(10,10))\n",
    "q = ax.quiver(xrange, yrange, f1_val, f2_val)\n",
    "\n",
    "plt.show()"
   ]
  }
 ],
 "metadata": {
  "kernelspec": {
   "display_name": "Python 3",
   "language": "python",
   "name": "python3"
  },
  "language_info": {
   "codemirror_mode": {
    "name": "ipython",
    "version": 3
   },
   "file_extension": ".py",
   "mimetype": "text/x-python",
   "name": "python",
   "nbconvert_exporter": "python",
   "pygments_lexer": "ipython3",
   "version": "3.8.2"
  }
 },
 "nbformat": 4,
 "nbformat_minor": 4
}
